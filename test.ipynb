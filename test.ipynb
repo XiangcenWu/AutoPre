{
 "cells": [
  {
   "cell_type": "code",
   "execution_count": 1,
   "metadata": {},
   "outputs": [],
   "source": [
    "import h5py\n",
    "import torch\n",
    "from monai.transforms import (\n",
    "    SpatialCropd,\n",
    "    Compose,\n",
    "    RandShiftIntensityd\n",
    ")\n",
    "import matplotlib.pyplot as plt\n",
    "import numpy as np\n",
    "from monai.transforms import Resized, Compose, LoadImaged, Spacingd, EnsureChannelFirstd, Orientationd, ScaleIntensityRanged, CropForegroundd, SpatialCropd, CenterSpatialCropd, SpatialPadd\n",
    "\n",
    "from h5_reader import ReadH5d\n",
    "data_reader = ReadH5d()\n",
    "\n",
    "data_msd = data_reader('/home/xiangcen/AutoPre/MSD_prostate_h5/00.h5')\n",
    "data_ins1 = data_reader('/home/xiangcen/AutoPre/Cimps_ins_1_h5/001000.h5')\n",
    "\n",
    "plt.imshow(torch.rot90(data_msd['image'], k=2, dims=[1, 2])[0, :, :, 10])\n"
   ]
  },
  {
   "cell_type": "code",
   "execution_count": null,
   "metadata": {},
   "outputs": [],
   "source": [
    "plt.imshow(data_ins1['image'][0, :, :, 50])"
   ]
  }
 ],
 "metadata": {
  "kernelspec": {
   "display_name": "dl",
   "language": "python",
   "name": "python3"
  },
  "language_info": {
   "codemirror_mode": {
    "name": "ipython",
    "version": 3
   },
   "file_extension": ".py",
   "mimetype": "text/x-python",
   "name": "python",
   "nbconvert_exporter": "python",
   "pygments_lexer": "ipython3",
   "version": "3.11.4"
  }
 },
 "nbformat": 4,
 "nbformat_minor": 2
}
